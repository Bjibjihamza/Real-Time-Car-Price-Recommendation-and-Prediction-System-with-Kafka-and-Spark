{
 "cells": [
  {
   "cell_type": "code",
   "execution_count": 1,
   "id": "70b2ea56-de53-47cf-94e8-8693fec4e8da",
   "metadata": {},
   "outputs": [],
   "source": [
    "# Import libraries : \n",
    "from pyspark.sql import SparkSession\n",
    "from pyspark.ml.feature import VectorAssembler, VectorIndexer\n",
    "from pyspark.ml.regression import RandomForestRegressor\n",
    "from pyspark.ml.evaluation import RegressionEvaluator\n",
    "from pyspark.ml.tuning import ParamGridBuilder, CrossValidator\n",
    "from pyspark.ml.evaluation import RegressionEvaluator\n",
    "import pandas as pd\n",
    "import matplotlib.pyplot as plt\n",
    "import seaborn as sns"
   ]
  },
  {
   "cell_type": "code",
   "execution_count": 2,
   "id": "72ff66ce-c1c7-4fcc-9221-c7d429168c0d",
   "metadata": {},
   "outputs": [
    {
     "name": "stdout",
     "output_type": "stream",
     "text": [
      "3.5.5\n"
     ]
    }
   ],
   "source": [
    "# Initialize spark session : \n",
    "\n",
    "spark = SparkSession.builder \\\n",
    "    .appName(\"Random forest regressor\") \\\n",
    "    .config(\"spark.driver.memory\", \"4g\") \\\n",
    "    .config(\"spark.executor.memory\", \"4g\") \\\n",
    "    .getOrCreate()\n",
    "\n",
    "print(spark.version)"
   ]
  },
  {
   "cell_type": "code",
   "execution_count": 34,
   "id": "010a5273-1615-4eb3-a9d1-efa5d50175ad",
   "metadata": {},
   "outputs": [
    {
     "data": {
      "text/html": [
       "<div>\n",
       "<style scoped>\n",
       "    .dataframe tbody tr th:only-of-type {\n",
       "        vertical-align: middle;\n",
       "    }\n",
       "\n",
       "    .dataframe tbody tr th {\n",
       "        vertical-align: top;\n",
       "    }\n",
       "\n",
       "    .dataframe thead th {\n",
       "        text-align: right;\n",
       "    }\n",
       "</style>\n",
       "<table border=\"1\" class=\"dataframe\">\n",
       "  <thead>\n",
       "    <tr style=\"text-align: right;\">\n",
       "      <th></th>\n",
       "      <th>door_count</th>\n",
       "      <th>fiscal_power</th>\n",
       "      <th>mileage</th>\n",
       "      <th>price</th>\n",
       "      <th>publication_Year</th>\n",
       "      <th>publication_Month</th>\n",
       "      <th>publication_Day</th>\n",
       "      <th>Days_since_posted</th>\n",
       "      <th>Alloy_wheels</th>\n",
       "      <th>Airbags</th>\n",
       "      <th>...</th>\n",
       "      <th>model</th>\n",
       "      <th>origin</th>\n",
       "      <th>first_owner</th>\n",
       "      <th>sector</th>\n",
       "      <th>seller_city</th>\n",
       "      <th>transmission</th>\n",
       "      <th>vehicle_age</th>\n",
       "      <th>days_on_market</th>\n",
       "      <th>mileage_vehicle_age</th>\n",
       "      <th>mileage_fiscal_interaction</th>\n",
       "    </tr>\n",
       "  </thead>\n",
       "  <tbody>\n",
       "    <tr>\n",
       "      <th>0</th>\n",
       "      <td>3.0</td>\n",
       "      <td>11.0</td>\n",
       "      <td>12.524526</td>\n",
       "      <td>85000.0</td>\n",
       "      <td>2025.0</td>\n",
       "      <td>2.0</td>\n",
       "      <td>11.0</td>\n",
       "      <td>78.0</td>\n",
       "      <td>1</td>\n",
       "      <td>1</td>\n",
       "      <td>...</td>\n",
       "      <td>221.0</td>\n",
       "      <td>0.0</td>\n",
       "      <td>0.0</td>\n",
       "      <td>4.0</td>\n",
       "      <td>1.0</td>\n",
       "      <td>0.0</td>\n",
       "      <td>18.0</td>\n",
       "      <td>78.0</td>\n",
       "      <td>4949982.0</td>\n",
       "      <td>3024989.0</td>\n",
       "    </tr>\n",
       "    <tr>\n",
       "      <th>1</th>\n",
       "      <td>5.0</td>\n",
       "      <td>8.0</td>\n",
       "      <td>10.021271</td>\n",
       "      <td>190000.0</td>\n",
       "      <td>2024.0</td>\n",
       "      <td>9.0</td>\n",
       "      <td>14.0</td>\n",
       "      <td>228.0</td>\n",
       "      <td>1</td>\n",
       "      <td>1</td>\n",
       "      <td>...</td>\n",
       "      <td>201.0</td>\n",
       "      <td>0.0</td>\n",
       "      <td>1.0</td>\n",
       "      <td>4.0</td>\n",
       "      <td>559.0</td>\n",
       "      <td>1.0</td>\n",
       "      <td>8.0</td>\n",
       "      <td>228.0</td>\n",
       "      <td>179992.0</td>\n",
       "      <td>179992.0</td>\n",
       "    </tr>\n",
       "    <tr>\n",
       "      <th>2</th>\n",
       "      <td>5.0</td>\n",
       "      <td>6.0</td>\n",
       "      <td>11.191342</td>\n",
       "      <td>167000.0</td>\n",
       "      <td>2025.0</td>\n",
       "      <td>2.0</td>\n",
       "      <td>11.0</td>\n",
       "      <td>78.0</td>\n",
       "      <td>1</td>\n",
       "      <td>1</td>\n",
       "      <td>...</td>\n",
       "      <td>3.0</td>\n",
       "      <td>0.0</td>\n",
       "      <td>1.0</td>\n",
       "      <td>0.0</td>\n",
       "      <td>10.0</td>\n",
       "      <td>0.0</td>\n",
       "      <td>6.0</td>\n",
       "      <td>78.0</td>\n",
       "      <td>434994.0</td>\n",
       "      <td>434994.0</td>\n",
       "    </tr>\n",
       "    <tr>\n",
       "      <th>3</th>\n",
       "      <td>5.0</td>\n",
       "      <td>11.0</td>\n",
       "      <td>12.128111</td>\n",
       "      <td>120000.0</td>\n",
       "      <td>2024.0</td>\n",
       "      <td>10.0</td>\n",
       "      <td>14.0</td>\n",
       "      <td>198.0</td>\n",
       "      <td>1</td>\n",
       "      <td>1</td>\n",
       "      <td>...</td>\n",
       "      <td>38.0</td>\n",
       "      <td>0.0</td>\n",
       "      <td>0.0</td>\n",
       "      <td>0.0</td>\n",
       "      <td>2.0</td>\n",
       "      <td>1.0</td>\n",
       "      <td>15.0</td>\n",
       "      <td>198.0</td>\n",
       "      <td>2774985.0</td>\n",
       "      <td>2034989.0</td>\n",
       "    </tr>\n",
       "    <tr>\n",
       "      <th>4</th>\n",
       "      <td>5.0</td>\n",
       "      <td>12.0</td>\n",
       "      <td>12.524526</td>\n",
       "      <td>70000.0</td>\n",
       "      <td>2025.0</td>\n",
       "      <td>2.0</td>\n",
       "      <td>11.0</td>\n",
       "      <td>78.0</td>\n",
       "      <td>1</td>\n",
       "      <td>0</td>\n",
       "      <td>...</td>\n",
       "      <td>12.0</td>\n",
       "      <td>1.0</td>\n",
       "      <td>0.0</td>\n",
       "      <td>12.0</td>\n",
       "      <td>334.0</td>\n",
       "      <td>1.0</td>\n",
       "      <td>19.0</td>\n",
       "      <td>78.0</td>\n",
       "      <td>5224981.0</td>\n",
       "      <td>3299988.0</td>\n",
       "    </tr>\n",
       "  </tbody>\n",
       "</table>\n",
       "<p>5 rows × 37 columns</p>\n",
       "</div>"
      ],
      "text/plain": [
       "   door_count  fiscal_power    mileage     price  publication_Year  \\\n",
       "0         3.0          11.0  12.524526   85000.0            2025.0   \n",
       "1         5.0           8.0  10.021271  190000.0            2024.0   \n",
       "2         5.0           6.0  11.191342  167000.0            2025.0   \n",
       "3         5.0          11.0  12.128111  120000.0            2024.0   \n",
       "4         5.0          12.0  12.524526   70000.0            2025.0   \n",
       "\n",
       "   publication_Month  publication_Day  Days_since_posted  Alloy_wheels  \\\n",
       "0                2.0             11.0               78.0             1   \n",
       "1                9.0             14.0              228.0             1   \n",
       "2                2.0             11.0               78.0             1   \n",
       "3               10.0             14.0              198.0             1   \n",
       "4                2.0             11.0               78.0             1   \n",
       "\n",
       "   Airbags  ...  model  origin  first_owner  sector  seller_city  \\\n",
       "0        1  ...  221.0     0.0          0.0     4.0          1.0   \n",
       "1        1  ...  201.0     0.0          1.0     4.0        559.0   \n",
       "2        1  ...    3.0     0.0          1.0     0.0         10.0   \n",
       "3        1  ...   38.0     0.0          0.0     0.0          2.0   \n",
       "4        0  ...   12.0     1.0          0.0    12.0        334.0   \n",
       "\n",
       "   transmission  vehicle_age  days_on_market  mileage_vehicle_age  \\\n",
       "0           0.0         18.0            78.0            4949982.0   \n",
       "1           1.0          8.0           228.0             179992.0   \n",
       "2           0.0          6.0            78.0             434994.0   \n",
       "3           1.0         15.0           198.0            2774985.0   \n",
       "4           1.0         19.0            78.0            5224981.0   \n",
       "\n",
       "   mileage_fiscal_interaction  \n",
       "0                   3024989.0  \n",
       "1                    179992.0  \n",
       "2                    434994.0  \n",
       "3                   2034989.0  \n",
       "4                   3299988.0  \n",
       "\n",
       "[5 rows x 37 columns]"
      ]
     },
     "execution_count": 34,
     "metadata": {},
     "output_type": "execute_result"
    }
   ],
   "source": [
    "def load_data(file_path):\n",
    "    return spark.read.csv(file_path, header=True, inferSchema=True)\n",
    "\n",
    "data = load_data(\"data_preprocessed_V3.csv\")\n",
    "data.limit(5).toPandas()"
   ]
  },
  {
   "cell_type": "markdown",
   "id": "dc971d52-a0b5-4170-b4e3-391fe8516d1b",
   "metadata": {},
   "source": [
    "## Prepare features:"
   ]
  },
  {
   "cell_type": "code",
   "execution_count": 35,
   "id": "dbf60b23-62a0-40a0-b4f5-90b785a21753",
   "metadata": {},
   "outputs": [],
   "source": [
    "# Create a dataframe of features :\n",
    "features_df = data.drop('price')\n",
    "\n",
    "# Create a vector column ---> combine multiple columns into a single vector column :\n",
    "assembler = VectorAssembler( inputCols = features_df.columns, outputCol = 'features')\n",
    "\n",
    "# Apply the assembler to the data : \n",
    "data_assembled = assembler.transform(data)"
   ]
  },
  {
   "cell_type": "code",
   "execution_count": 36,
   "id": "dad90325-1cfd-4a60-8fdf-9293341ae248",
   "metadata": {},
   "outputs": [],
   "source": [
    "data_for_training = data_assembled.select('features', 'price')"
   ]
  },
  {
   "cell_type": "markdown",
   "id": "dd29c65d-095d-4e9f-9ea7-2d1fb59300e1",
   "metadata": {},
   "source": [
    "## Train the model : "
   ]
  },
  {
   "cell_type": "code",
   "execution_count": 39,
   "id": "abf6ad31-7b40-48c5-a987-2b1b0c3c6861",
   "metadata": {},
   "outputs": [],
   "source": [
    "# Split data into train and test : \n",
    "train_data, test_data = data_for_training.randomSplit([0.8, 0.2], seed=42)\n",
    "\n",
    "# 4. Set up base model\n",
    "rf = RandomForestRegressor(\n",
    "    featuresCol=\"features\", \n",
    "    labelCol=\"price\",\n",
    "    predictionCol=\"prediction\"\n",
    ")\n",
    "\n",
    "# Define parameter grid\n",
    "paramGrid = ParamGridBuilder() \\\n",
    "    .addGrid(rf.maxDepth, [5, 10]) \\\n",
    "    .addGrid(rf.minInstancesPerNode, [5, 10]) \\\n",
    "    .addGrid(rf.numTrees, [100, 200]) \\\n",
    "    .addGrid(rf.subsamplingRate, [0.8, 1.0]) \\\n",
    "    .addGrid(rf.featureSubsetStrategy, [\"onethird\", \"sqrt\"]) \\\n",
    "    .build()\n",
    "\n",
    "# Set up evaluator\n",
    "evaluator = RegressionEvaluator(\n",
    "    labelCol=\"price\", \n",
    "    predictionCol=\"prediction\", \n",
    "    metricName=\"rmse\"\n",
    ")\n",
    "\n",
    "\n",
    "# Create cross-validator - using 3 folds instead of 5 to save computation\n",
    "cv = CrossValidator(\n",
    "    estimator=rf,\n",
    "    estimatorParamMaps=paramGrid,\n",
    "    evaluator=evaluator,\n",
    "    numFolds=3,  # Fewer folds for faster computation\n",
    "    parallelism=2,  # Control parallelism based on your CPU\n",
    "    seed=42\n",
    ")\n",
    "\n",
    "\n",
    "# Fit cross-validator to find best model\n",
    "cv_model = cv.fit(train_data)\n",
    "\n",
    "# Get best model\n",
    "best_model = cv_model.bestModel\n"
   ]
  },
  {
   "cell_type": "code",
   "execution_count": 40,
   "id": "00833f7e-8d70-4a85-a50e-5fdc1d72bc1b",
   "metadata": {},
   "outputs": [
    {
     "name": "stdout",
     "output_type": "stream",
     "text": [
      "Best maxDepth: 10\n",
      "Best minInstancesPerNode: 5\n",
      "Best numTrees: 200\n"
     ]
    }
   ],
   "source": [
    "# Print best parameters\n",
    "print(f\"Best maxDepth: {best_model.getMaxDepth()}\")\n",
    "print(f\"Best minInstancesPerNode: {best_model.getMinInstancesPerNode()}\")\n",
    "print(f\"Best numTrees: {best_model.getNumTrees}\")"
   ]
  },
  {
   "cell_type": "markdown",
   "id": "f1328e33-944c-4ae4-9806-b312e6fca4d0",
   "metadata": {},
   "source": [
    "# Get and save the best model "
   ]
  },
  {
   "cell_type": "code",
   "execution_count": null,
   "id": "af852638-8a49-48d6-aa77-06003c041cb8",
   "metadata": {},
   "outputs": [],
   "source": []
  },
  {
   "cell_type": "markdown",
   "id": "e9289948-9e75-4f96-9526-1248fd164946",
   "metadata": {},
   "source": [
    "# Evaluate the best model : "
   ]
  },
  {
   "cell_type": "code",
   "execution_count": 45,
   "id": "ffbd9c93-3d86-43fa-be99-924ce2d4cad0",
   "metadata": {},
   "outputs": [
    {
     "name": "stdout",
     "output_type": "stream",
     "text": [
      "Test data: {'rmse': 68148.92814789418, 'mae': 33172.46099196508, 'r2': 0.6963334773478782}\n",
      "Train data: {'rmse': 49237.44274214596, 'mae': 27100.65602704121, 'r2': 0.8284808380969872}\n"
     ]
    }
   ],
   "source": [
    "# 11. Evaluate on test data\n",
    "test_predictions = best_model.transform(test_data)\n",
    "rmse_test = evaluator.evaluate(test_predictions)\n",
    "mae_test = evaluator.evaluate(test_predictions, {evaluator.metricName: \"mae\"})\n",
    "r2_test = evaluator.evaluate(test_predictions, {evaluator.metricName: \"r2\"})\n",
    "\n",
    "print(f\"Test data: {{'rmse': {rmse_test}, 'mae': {mae_test}, 'r2': {r2_test}}}\")\n",
    "\n",
    "# evaluate on train data : \n",
    "train_predictions = best_model.transform(train_data)\n",
    "rmse_train = evaluator.evaluate(train_predictions)\n",
    "mae_train = evaluator.evaluate(train_predictions, {evaluator.metricName: \"mae\"})\n",
    "r2_train = evaluator.evaluate(train_predictions, {evaluator.metricName: \"r2\"})\n",
    "\n",
    "print(f\"Train data: {{'rmse': {rmse_train}, 'mae': {mae_train}, 'r2': {r2_train}}}\")"
   ]
  },
  {
   "cell_type": "code",
   "execution_count": 63,
   "id": "5f9857f5-967d-40dc-9325-fefc92528cf4",
   "metadata": {},
   "outputs": [
    {
     "name": "stdout",
     "output_type": "stream",
     "text": [
      "Metrics saved to 'random_forest_metrics.csv'\n"
     ]
    }
   ],
   "source": [
    "import pandas as pd\n",
    "\n",
    "# Evaluation metrics for test data\n",
    "test_metrics = {\n",
    "    'rmse': rmse_test,\n",
    "    'mae': mae_test,\n",
    "    'r2': r2_test\n",
    "}\n",
    "\n",
    "# Evaluation metrics for train data\n",
    "train_metrics = {\n",
    "    'rmse': rmse_train,\n",
    "    'mae': mae_train,\n",
    "    'r2': r2_train\n",
    "}\n",
    "\n",
    "# Create a DataFrame to store these metrics\n",
    "metrics_df = pd.DataFrame({\n",
    "    'Dataset': ['Train', 'Test'],\n",
    "    'RMSE': [rmse_train, rmse_test],\n",
    "    'MAE': [mae_train, mae_test],\n",
    "    'R2': [r2_train, r2_test]\n",
    "})\n",
    "\n",
    "# Save the DataFrame to a CSV file\n",
    "metrics_df.to_csv('random_forest_metrics.csv', index=False)\n",
    "\n",
    "print(\"Metrics saved to 'random_forest_metrics.csv'\")\n"
   ]
  },
  {
   "cell_type": "code",
   "execution_count": 47,
   "id": "5c65e572-e03b-41bd-84e4-07c6ad7f87a0",
   "metadata": {},
   "outputs": [
    {
     "data": {
      "image/png": "[encoded data removed]",
      "text/plain": [
       "<Figure size 1200x500 with 2 Axes>"
      ]
     },
     "metadata": {},
     "output_type": "display_data"
    }
   ],
   "source": [
    "import matplotlib.pyplot as plt\n",
    "import numpy as np\n",
    "\n",
    "# Metric values\n",
    "train_rmse, train_mae, train_r2 = rmse_train, mae_train, r2_train\n",
    "test_rmse, test_mae, test_r2 = rmse_test, mae_test, r2_test\n",
    "\n",
    "# Subplot layout\n",
    "fig, axes = plt.subplots(1, 2, figsize=(12, 5))\n",
    "\n",
    "# Plot 1: RMSE and MAE\n",
    "metrics = ['RMSE', 'MAE']\n",
    "train_scores = [train_rmse, train_mae]\n",
    "test_scores = [test_rmse, test_mae]\n",
    "x = np.arange(len(metrics))\n",
    "bar_width = 0.35\n",
    "\n",
    "axes[0].bar(x - bar_width/2, train_scores, bar_width, label='Train', color='skyblue')\n",
    "axes[0].bar(x + bar_width/2, test_scores, bar_width, label='Test', color='salmon')\n",
    "axes[0].set_xticks(x)\n",
    "axes[0].set_xticklabels(metrics)\n",
    "axes[0].set_ylabel('Score')\n",
    "axes[0].set_title('RMSE and MAE')\n",
    "axes[0].legend()\n",
    "axes[0].grid(axis='y', linestyle='--', alpha=0.6)\n",
    "\n",
    "# Plot 2: R²\n",
    "axes[1].bar(['Train'], [train_r2], width=0.35, label='Train', color='skyblue')\n",
    "axes[1].bar(['Test'], [test_r2], width=0.35, label='Test', color='salmon')\n",
    "axes[1].set_ylim(0, 1)\n",
    "axes[1].set_ylabel('R² Score')\n",
    "axes[1].set_title('R² Comparison')\n",
    "axes[1].legend()\n",
    "axes[1].grid(axis='y', linestyle='--', alpha=0.6)\n",
    "\n",
    "# Layout\n",
    "plt.tight_layout()\n",
    "plt.show()"
   ]
  },
  {
   "cell_type": "markdown",
   "id": "da5319e2-39c3-4e11-b63f-0351e71717f7",
   "metadata": {},
   "source": [
    "## Get features importance : "
   ]
  },
  {
   "cell_type": "code",
   "execution_count": 49,
   "id": "aac35b38-e434-4584-8a02-372972bee2bf",
   "metadata": {},
   "outputs": [
    {
     "name": "stdout",
     "output_type": "stream",
     "text": [
      "                       feature  importance\n",
      "0                 transmission    0.235464\n",
      "1                  vehicle_age    0.224956\n",
      "2                 fiscal_power    0.103046\n",
      "3                      Sunroof    0.101995\n",
      "4          mileage_vehicle_age    0.073185\n",
      "5                       origin    0.048713\n",
      "6                        brand    0.028002\n",
      "7                        model    0.027671\n",
      "8                      mileage    0.019195\n",
      "9              Parking_sensors    0.018546\n",
      "10  mileage_fiscal_interaction    0.017035\n",
      "11               Speed_limiter    0.013520\n",
      "12                   fuel_type    0.012754\n",
      "13                 first_owner    0.011180\n",
      "14           On_board_computer    0.010348\n",
      "15                Alloy_wheels    0.007424\n",
      "16                 seller_city    0.007294\n",
      "17                      sector    0.006715\n",
      "18             publication_Day    0.005554\n",
      "19              days_on_market    0.004574\n",
      "20           Days_since_posted    0.004346\n",
      "21                   condition    0.004322\n",
      "22           publication_Month    0.003733\n",
      "23                         ESP    0.003214\n",
      "24                  door_count    0.002793\n",
      "25                         ABS    0.001258\n",
      "26            Air_conditioning    0.001018\n",
      "27            CD/MP3/Bluetooth    0.000975\n",
      "28                     Airbags    0.000874\n",
      "29            publication_Year    0.000296\n",
      "30             Central_locking    0.000000\n",
      "31            Electric_windows    0.000000\n",
      "32                 Rear_camera    0.000000\n",
      "33               Leather_seats    0.000000\n",
      "34           Navigation_system    0.000000\n",
      "35              Cruise_control    0.000000\n"
     ]
    }
   ],
   "source": [
    "from pyspark.ml.feature import VectorAssembler\n",
    "import pandas as pd\n",
    "\n",
    "# Your assembler already uses all features\n",
    "feature_names = features_df.columns  # List of feature names in order\n",
    "\n",
    "# Get the importances from the trained Random Forest model\n",
    "importances = best_model.featureImportances.toArray()\n",
    "\n",
    "# Zip and convert to a pandas dataframe\n",
    "importance_df = pd.DataFrame({\n",
    "    'feature': feature_names,\n",
    "    'importance': importances\n",
    "}).sort_values(by='importance', ascending=False).reset_index(drop=True)\n",
    "\n",
    "# Display top features\n",
    "print(importance_df)"
   ]
  },
  {
   "cell_type": "code",
   "execution_count": 64,
   "id": "ca8ec492-9293-4faa-a37d-168a06c1013b",
   "metadata": {},
   "outputs": [],
   "source": [
    "importance_df.to_csv(\"random_forest_features_importance.csv\" , index= False)"
   ]
  },
  {
   "cell_type": "code",
   "execution_count": 66,
   "id": "57302440-02f2-40b3-9f72-241d3a3be5e4",
   "metadata": {},
   "outputs": [
    {
     "name": "stderr",
     "output_type": "stream",
     "text": [
      "C:\\Users\\Admin\\AppData\\Local\\Temp\\ipykernel_26544\\2777387232.py:7: FutureWarning: \n",
      "\n",
      "Passing `palette` without assigning `hue` is deprecated and will be removed in v0.14.0. Assign the `y` variable to `hue` and set `legend=False` for the same effect.\n",
      "\n",
      "  sns.barplot(x='importance', y='feature', data=top_features, palette='viridis')\n"
     ]
    },
    {
     "data": {
      "image/png": "[encoded data removed]",
      "text/plain": [
       "<Figure size 1000x600 with 1 Axes>"
      ]
     },
     "metadata": {},
     "output_type": "display_data"
    }
   ],
   "source": [
    "import matplotlib.pyplot as plt\n",
    "import seaborn as sns\n",
    "\n",
    "top_features = importance_df.sort_values(by='importance', ascending=False).head(15)\n",
    "\n",
    "plt.figure(figsize=(10, 6))\n",
    "sns.barplot(x='importance', y='feature', data=top_features, palette='viridis')\n",
    "plt.title('Top 15 Feature Importances')\n",
    "plt.xlabel('Importance')\n",
    "plt.ylabel('Feature')\n",
    "plt.tight_layout()\n",
    "plt.show()\n"
   ]
  },
  {
   "cell_type": "code",
   "execution_count": null,
   "id": "a935afb2-c649-41ee-9ef6-a3ea59b2d3a9",
   "metadata": {},
   "outputs": [],
   "source": []
  }
 ],
 "metadata": {
  "kernelspec": {
   "display_name": "Python 3 (ipykernel)",
   "language": "python",
   "name": "python3"
  },
  "language_info": {
   "codemirror_mode": {
    "name": "ipython",
    "version": 3
   },
   "file_extension": ".py",
   "mimetype": "text/x-python",
   "name": "python",
   "nbconvert_exporter": "python",
   "pygments_lexer": "ipython3",
   "version": "3.9.21"
  }
 },
 "nbformat": 4,
 "nbformat_minor": 5
}
